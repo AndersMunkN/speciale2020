{
 "cells": [
  {
   "cell_type": "code",
   "execution_count": 1,
   "metadata": {},
   "outputs": [],
   "source": [
    "import seaborn as sns\n",
    "\n",
    "import numpy as np\n",
    "\n",
    "import pandas as pd\n",
    "\n",
    "import matplotlib.pyplot as plt\n",
    "\n",
    "from scipy.optimize import linprog"
   ]
  },
  {
   "cell_type": "code",
   "execution_count": 2,
   "metadata": {},
   "outputs": [],
   "source": [
    "def ImportExcelFile(Kolonner, Rækker, dataframe):\n",
    "    df = pd.read_excel (r'C:\\Users\\Mads\\Desktop\\Speciale\\Kode\\Git\\Data\\Winrates_Data.xlsx')\n",
    "\n",
    "    column_names = list(df.columns)\n",
    "\n",
    "    if Kolonner == 1: \n",
    "        return column_names\n",
    "    else:\n",
    "        if dataframe == 1:\n",
    "            return df\n",
    "        else: \n",
    "            if Rækker == 1:\n",
    "                Row_list =[] \n",
    "                # Iterate over each row \n",
    "                for i in range((df.shape[0])):  \n",
    "                    # the current row denoted by \"i\" \n",
    "                    Row_list.append(list(df.iloc[i, :])) \n",
    "                return Row_list\n",
    "            else:\n",
    "                \"Set one of the inputs to 1\""
   ]
  },
  {
   "cell_type": "code",
   "execution_count": 3,
   "metadata": {},
   "outputs": [],
   "source": [
    "deck_names = ImportExcelFile(1,0,0)\n",
    "winrates = ImportExcelFile(0,1,0)\n",
    "data = ImportExcelFile(0,0,1)"
   ]
  },
  {
   "cell_type": "code",
   "execution_count": 4,
   "metadata": {},
   "outputs": [
    {
     "data": {
      "text/plain": [
       "12"
      ]
     },
     "execution_count": 4,
     "metadata": {},
     "output_type": "execute_result"
    }
   ],
   "source": [
    "num_decks=len(deck_names)\n",
    "num_decks"
   ]
  },
  {
   "cell_type": "code",
   "execution_count": 5,
   "metadata": {},
   "outputs": [
    {
     "data": {
      "text/plain": [
       "[0, 0, 0, 0, 0, 0, 0, 0, 0, 0, 0, 0]"
      ]
     },
     "execution_count": 5,
     "metadata": {},
     "output_type": "execute_result"
    }
   ],
   "source": [
    "c = [0 for i in range(num_decks)]\n",
    "c"
   ]
  },
  {
   "cell_type": "code",
   "execution_count": 6,
   "metadata": {},
   "outputs": [
    {
     "data": {
      "text/plain": [
       "[0, 0, 0, 0, 0, 0, 0, 0, 0, 0, 0, 0, 1]"
      ]
     },
     "execution_count": 6,
     "metadata": {},
     "output_type": "execute_result"
    }
   ],
   "source": [
    "c.append(1)\n",
    "c"
   ]
  },
  {
   "cell_type": "code",
   "execution_count": 7,
   "metadata": {},
   "outputs": [
    {
     "data": {
      "text/plain": [
       "[[0.0,\n",
       "  0.0,\n",
       "  -0.09999999999999998,\n",
       "  0.5,\n",
       "  0.10000000000000009,\n",
       "  -0.09999999999999998,\n",
       "  -0.19999999999999996,\n",
       "  0.30000000000000004,\n",
       "  0.19999999999999996,\n",
       "  -0.30000000000000004,\n",
       "  0.3999999999999999,\n",
       "  0.19999999999999996],\n",
       " [0.0,\n",
       "  0.0,\n",
       "  -0.19999999999999996,\n",
       "  0.19999999999999996,\n",
       "  0.10000000000000009,\n",
       "  -0.19999999999999996,\n",
       "  -0.30000000000000004,\n",
       "  0.10000000000000009,\n",
       "  0.19999999999999996,\n",
       "  -0.19999999999999996,\n",
       "  0.5,\n",
       "  -0.19999999999999996],\n",
       " [0.10000000000000009,\n",
       "  0.19999999999999996,\n",
       "  0.0,\n",
       "  -0.30000000000000004,\n",
       "  -0.19999999999999996,\n",
       "  -0.30000000000000004,\n",
       "  -0.19999999999999996,\n",
       "  0.0,\n",
       "  0.30000000000000004,\n",
       "  -0.09999999999999998,\n",
       "  0.10000000000000009,\n",
       "  -0.4],\n",
       " [-0.5,\n",
       "  -0.19999999999999996,\n",
       "  0.30000000000000004,\n",
       "  0.0,\n",
       "  -0.4,\n",
       "  0.3999999999999999,\n",
       "  0.3999999999999999,\n",
       "  0.3999999999999999,\n",
       "  0.3999999999999999,\n",
       "  0.6000000000000001,\n",
       "  -0.8,\n",
       "  -0.6],\n",
       " [-0.09999999999999998,\n",
       "  -0.09999999999999998,\n",
       "  0.19999999999999996,\n",
       "  0.3999999999999999,\n",
       "  0.0,\n",
       "  0.3999999999999999,\n",
       "  -0.19999999999999996,\n",
       "  0.19999999999999996,\n",
       "  -0.19999999999999996,\n",
       "  -0.4,\n",
       "  -0.30000000000000004,\n",
       "  0.10000000000000009],\n",
       " [0.10000000000000009,\n",
       "  0.19999999999999996,\n",
       "  0.30000000000000004,\n",
       "  -0.4,\n",
       "  -0.4,\n",
       "  0.0,\n",
       "  0.0,\n",
       "  -0.09999999999999998,\n",
       "  -0.30000000000000004,\n",
       "  0.10000000000000009,\n",
       "  0.19999999999999996,\n",
       "  -0.4],\n",
       " [0.19999999999999996,\n",
       "  0.30000000000000004,\n",
       "  0.19999999999999996,\n",
       "  -0.4,\n",
       "  0.19999999999999996,\n",
       "  0.0,\n",
       "  0.0,\n",
       "  -0.6,\n",
       "  -0.5,\n",
       "  0.3999999999999999,\n",
       "  -0.19999999999999996,\n",
       "  0.0],\n",
       " [-0.30000000000000004,\n",
       "  -0.09999999999999998,\n",
       "  0.0,\n",
       "  -0.4,\n",
       "  -0.19999999999999996,\n",
       "  0.10000000000000009,\n",
       "  0.6000000000000001,\n",
       "  0.0,\n",
       "  -0.09999999999999998,\n",
       "  0.30000000000000004,\n",
       "  0.19999999999999996,\n",
       "  0.10000000000000009],\n",
       " [-0.19999999999999996,\n",
       "  -0.19999999999999996,\n",
       "  -0.30000000000000004,\n",
       "  -0.4,\n",
       "  0.19999999999999996,\n",
       "  0.30000000000000004,\n",
       "  0.5,\n",
       "  0.10000000000000009,\n",
       "  0.0,\n",
       "  0.19999999999999996,\n",
       "  0.19999999999999996,\n",
       "  0.30000000000000004],\n",
       " [0.30000000000000004,\n",
       "  0.19999999999999996,\n",
       "  0.10000000000000009,\n",
       "  -0.6,\n",
       "  0.3999999999999999,\n",
       "  -0.09999999999999998,\n",
       "  -0.4,\n",
       "  -0.30000000000000004,\n",
       "  -0.19999999999999996,\n",
       "  0.0,\n",
       "  0.19999999999999996,\n",
       "  -0.19999999999999996],\n",
       " [-0.4,\n",
       "  -0.5,\n",
       "  -0.09999999999999998,\n",
       "  0.8,\n",
       "  0.30000000000000004,\n",
       "  -0.19999999999999996,\n",
       "  0.19999999999999996,\n",
       "  -0.19999999999999996,\n",
       "  -0.19999999999999996,\n",
       "  -0.19999999999999996,\n",
       "  0.0,\n",
       "  0.19999999999999996],\n",
       " [-0.19999999999999996,\n",
       "  0.19999999999999996,\n",
       "  0.3999999999999999,\n",
       "  0.6000000000000001,\n",
       "  -0.09999999999999998,\n",
       "  0.3999999999999999,\n",
       "  0.0,\n",
       "  -0.09999999999999998,\n",
       "  -0.30000000000000004,\n",
       "  0.19999999999999996,\n",
       "  -0.19999999999999996,\n",
       "  0.0]]"
      ]
     },
     "execution_count": 7,
     "metadata": {},
     "output_type": "execute_result"
    }
   ],
   "source": [
    "payoffs = [[u for u in [(j/50.0)-1 for j in i]] for i in winrates]\n",
    "payoffs"
   ]
  },
  {
   "cell_type": "code",
   "execution_count": 17,
   "metadata": {},
   "outputs": [],
   "source": [
    "for r in payoffs:\n",
    "\n",
    "    r.append(-1.0)\n"
   ]
  },
  {
   "cell_type": "code",
   "execution_count": 10,
   "metadata": {},
   "outputs": [
    {
     "data": {
      "text/plain": [
       "[0, 0, 0, 0, 0, 0, 0, 0, 0, 0, 0, 0]"
      ]
     },
     "execution_count": 10,
     "metadata": {},
     "output_type": "execute_result"
    }
   ],
   "source": [
    "b_ub = [0 for i in range(num_decks)]\n",
    "b_ub"
   ]
  },
  {
   "cell_type": "code",
   "execution_count": 11,
   "metadata": {},
   "outputs": [
    {
     "data": {
      "text/plain": [
       "[1, 1, 1, 1, 1, 1, 1, 1, 1, 1, 1, 1]"
      ]
     },
     "execution_count": 11,
     "metadata": {},
     "output_type": "execute_result"
    }
   ],
   "source": [
    "ones = [1 for i in range(num_decks)]\n",
    "ones"
   ]
  },
  {
   "cell_type": "code",
   "execution_count": 12,
   "metadata": {},
   "outputs": [
    {
     "data": {
      "text/plain": [
       "[1, 1, 1, 1, 1, 1, 1, 1, 1, 1, 1, 1, 0]"
      ]
     },
     "execution_count": 12,
     "metadata": {},
     "output_type": "execute_result"
    }
   ],
   "source": [
    "ones.append(0)\n",
    "ones"
   ]
  },
  {
   "cell_type": "code",
   "execution_count": 13,
   "metadata": {},
   "outputs": [
    {
     "data": {
      "text/plain": [
       "[[1, 1, 1, 1, 1, 1, 1, 1, 1, 1, 1, 1, 0]]"
      ]
     },
     "execution_count": 13,
     "metadata": {},
     "output_type": "execute_result"
    }
   ],
   "source": [
    "A_eq = [ones]\n",
    "A_eq"
   ]
  },
  {
   "cell_type": "code",
   "execution_count": 14,
   "metadata": {},
   "outputs": [
    {
     "data": {
      "text/plain": [
       "[1]"
      ]
     },
     "execution_count": 14,
     "metadata": {},
     "output_type": "execute_result"
    }
   ],
   "source": [
    "b_eq = [1]\n",
    "b_eq"
   ]
  },
  {
   "cell_type": "code",
   "execution_count": 15,
   "metadata": {},
   "outputs": [
    {
     "data": {
      "text/plain": [
       "[(0, None),\n",
       " (0, None),\n",
       " (0, None),\n",
       " (0, None),\n",
       " (0, None),\n",
       " (0, None),\n",
       " (0, None),\n",
       " (0, None),\n",
       " (0, None),\n",
       " (0, None),\n",
       " (0, None),\n",
       " (0, None),\n",
       " (0, None)]"
      ]
     },
     "execution_count": 15,
     "metadata": {},
     "output_type": "execute_result"
    }
   ],
   "source": [
    "bounds = [(0,None) for i in range(num_decks+1)]\n",
    "bounds"
   ]
  },
  {
   "cell_type": "code",
   "execution_count": 16,
   "metadata": {},
   "outputs": [
    {
     "data": {
      "text/plain": [
       "     fun: 3.664603343001005e-17\n",
       " message: 'Optimization terminated successfully.'\n",
       "     nit: 12\n",
       "   slack: array([0.        , 0.0617737 , 0.        , 0.        , 0.06391437,\n",
       "       0.        , 0.        , 0.        , 0.        , 0.05168196,\n",
       "       0.08899083, 0.03058104])\n",
       "  status: 0\n",
       " success: True\n",
       "       x: array([4.00611621e-01, 0.00000000e+00, 1.00917431e-01, 7.33944954e-02,\n",
       "       0.00000000e+00, 1.52905199e-02, 2.69113150e-01, 6.11620795e-03,\n",
       "       1.34556575e-01, 0.00000000e+00, 0.00000000e+00, 0.00000000e+00,\n",
       "       3.66460334e-17])"
      ]
     },
     "execution_count": 16,
     "metadata": {},
     "output_type": "execute_result"
    }
   ],
   "source": [
    "solution = linprog(c, A_ub=payoffs, b_ub=b_ub, A_eq=A_eq, b_eq=b_eq, bounds=bounds)\n",
    "solution"
   ]
  },
  {
   "cell_type": "code",
   "execution_count": null,
   "metadata": {},
   "outputs": [],
   "source": []
  },
  {
   "cell_type": "code",
   "execution_count": null,
   "metadata": {},
   "outputs": [],
   "source": []
  }
 ],
 "metadata": {
  "kernelspec": {
   "display_name": "Python 3",
   "language": "python",
   "name": "python3"
  },
  "language_info": {
   "codemirror_mode": {
    "name": "ipython",
    "version": 3
   },
   "file_extension": ".py",
   "mimetype": "text/x-python",
   "name": "python",
   "nbconvert_exporter": "python",
   "pygments_lexer": "ipython3",
   "version": "3.7.1"
  }
 },
 "nbformat": 4,
 "nbformat_minor": 2
}
