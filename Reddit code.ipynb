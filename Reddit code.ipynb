{
 "cells": [
  {
   "cell_type": "code",
   "execution_count": 30,
   "metadata": {
    "tags": []
   },
   "outputs": [
    {
     "output_type": "stream",
     "name": "stdout",
     "text": "test123\n"
    }
   ],
   "source": [
    "import seaborn as sns\n",
    "\n",
    "import numpy as np\n",
    "\n",
    "import pandas as pd\n",
    "\n",
    "import matplotlib.pyplot as plt\n",
    "\n",
    "from scipy.optimize import linprog\n",
    "print(\"test123\")"
   ]
  },
  {
   "cell_type": "code",
   "execution_count": 31,
   "metadata": {},
   "outputs": [],
   "source": [
    "def ImportExcelFile(decknames, winrates, dataframe):\n",
    "    df = pd.read_excel (r'C:\\Users\\Mads\\Desktop\\Speciale\\Kode\\Git\\Data\\Winrates_Data.xlsx')\n",
    "\n",
    "    column_names = list(df.columns)\n",
    "\n",
    "    if decknames == 1: \n",
    "        return column_names\n",
    "    else:\n",
    "        if dataframe == 1:\n",
    "            return df\n",
    "        else: \n",
    "            if winrates == 1:\n",
    "                Row_list =[] \n",
    "                # Iterate over each row \n",
    "                for i in range((df.shape[0])):  \n",
    "                    # the current row denoted by \"i\" \n",
    "                    Row_list.append(list(df.iloc[i, :])) \n",
    "                return Row_list\n",
    "            else:\n",
    "                \"Set one of the inputs to 1\""
   ]
  },
  {
   "cell_type": "code",
   "execution_count": 32,
   "metadata": {},
   "outputs": [],
   "source": [
    "deck_names = ImportExcelFile(1,0,0)\n",
    "winrates = ImportExcelFile(0,1,0)\n",
    "data = ImportExcelFile(0,0,1)"
   ]
  },
  {
   "cell_type": "code",
   "execution_count": 33,
   "metadata": {},
   "outputs": [
    {
     "output_type": "execute_result",
     "data": {
      "text/plain": "12"
     },
     "metadata": {},
     "execution_count": 33
    }
   ],
   "source": [
    "num_decks=len(deck_names)\n",
    "num_decks"
   ]
  },
  {
   "cell_type": "code",
   "execution_count": 34,
   "metadata": {},
   "outputs": [
    {
     "output_type": "execute_result",
     "data": {
      "text/plain": "[0, 0, 0, 0, 0, 0, 0, 0, 0, 0, 0, 0]"
     },
     "metadata": {},
     "execution_count": 34
    }
   ],
   "source": [
    "c = [0 for i in range(num_decks)]\n",
    "c"
   ]
  },
  {
   "cell_type": "code",
   "execution_count": 35,
   "metadata": {},
   "outputs": [
    {
     "output_type": "execute_result",
     "data": {
      "text/plain": "[0, 0, 0, 0, 0, 0, 0, 0, 0, 0, 0, 0, 1]"
     },
     "metadata": {},
     "execution_count": 35
    }
   ],
   "source": [
    "c.append(1)\n",
    "c"
   ]
  },
  {
   "cell_type": "code",
   "execution_count": 36,
   "metadata": {},
   "outputs": [
    {
     "output_type": "execute_result",
     "data": {
      "text/plain": "[[0.0,\n  0.0,\n  -0.09999999999999998,\n  0.5,\n  0.10000000000000009,\n  -0.09999999999999998,\n  -0.19999999999999996,\n  0.30000000000000004,\n  0.19999999999999996,\n  -0.30000000000000004,\n  0.3999999999999999,\n  0.19999999999999996],\n [0.0,\n  0.0,\n  -0.19999999999999996,\n  0.19999999999999996,\n  0.10000000000000009,\n  -0.19999999999999996,\n  -0.30000000000000004,\n  0.10000000000000009,\n  0.19999999999999996,\n  -0.19999999999999996,\n  0.5,\n  -0.19999999999999996],\n [0.10000000000000009,\n  0.19999999999999996,\n  0.0,\n  -0.30000000000000004,\n  -0.19999999999999996,\n  -0.30000000000000004,\n  -0.19999999999999996,\n  0.0,\n  0.30000000000000004,\n  -0.09999999999999998,\n  0.10000000000000009,\n  -0.4],\n [-0.5,\n  -0.19999999999999996,\n  0.30000000000000004,\n  0.0,\n  -0.4,\n  0.3999999999999999,\n  0.3999999999999999,\n  0.3999999999999999,\n  0.3999999999999999,\n  0.6000000000000001,\n  -0.8,\n  -0.6],\n [-0.09999999999999998,\n  -0.09999999999999998,\n  0.19999999999999996,\n  0.3999999999999999,\n  0.0,\n  0.3999999999999999,\n  -0.19999999999999996,\n  0.19999999999999996,\n  -0.19999999999999996,\n  -0.4,\n  -0.30000000000000004,\n  0.10000000000000009],\n [0.10000000000000009,\n  0.19999999999999996,\n  0.30000000000000004,\n  -0.4,\n  -0.4,\n  0.0,\n  0.0,\n  -0.09999999999999998,\n  -0.30000000000000004,\n  0.10000000000000009,\n  0.19999999999999996,\n  -0.4],\n [0.19999999999999996,\n  0.30000000000000004,\n  0.19999999999999996,\n  -0.4,\n  0.19999999999999996,\n  0.0,\n  0.0,\n  -0.6,\n  -0.5,\n  0.3999999999999999,\n  -0.19999999999999996,\n  0.0],\n [-0.30000000000000004,\n  -0.09999999999999998,\n  0.0,\n  -0.4,\n  -0.19999999999999996,\n  0.10000000000000009,\n  0.6000000000000001,\n  0.0,\n  -0.09999999999999998,\n  0.30000000000000004,\n  0.19999999999999996,\n  0.10000000000000009],\n [-0.19999999999999996,\n  -0.19999999999999996,\n  -0.30000000000000004,\n  -0.4,\n  0.19999999999999996,\n  0.30000000000000004,\n  0.5,\n  0.10000000000000009,\n  0.0,\n  0.19999999999999996,\n  0.19999999999999996,\n  0.30000000000000004],\n [0.30000000000000004,\n  0.19999999999999996,\n  0.10000000000000009,\n  -0.6,\n  0.3999999999999999,\n  -0.09999999999999998,\n  -0.4,\n  -0.30000000000000004,\n  -0.19999999999999996,\n  0.0,\n  0.19999999999999996,\n  -0.19999999999999996],\n [-0.4,\n  -0.5,\n  -0.09999999999999998,\n  0.8,\n  0.30000000000000004,\n  -0.19999999999999996,\n  0.19999999999999996,\n  -0.19999999999999996,\n  -0.19999999999999996,\n  -0.19999999999999996,\n  0.0,\n  0.19999999999999996],\n [-0.19999999999999996,\n  0.19999999999999996,\n  0.3999999999999999,\n  0.6000000000000001,\n  -0.09999999999999998,\n  0.3999999999999999,\n  0.0,\n  -0.09999999999999998,\n  -0.30000000000000004,\n  0.19999999999999996,\n  -0.19999999999999996,\n  0.0]]"
     },
     "metadata": {},
     "execution_count": 36
    }
   ],
   "source": [
    "payoffs = [[u for u in [(j/50.0)-1 for j in i]] for i in winrates]\n",
    "payoffs"
   ]
  },
  {
   "cell_type": "code",
   "execution_count": 37,
   "metadata": {},
   "outputs": [],
   "source": [
    "for r in payoffs:\n",
    "\n",
    "    r.append(-1.0)\n"
   ]
  },
  {
   "cell_type": "code",
   "execution_count": 38,
   "metadata": {},
   "outputs": [
    {
     "output_type": "execute_result",
     "data": {
      "text/plain": "[0, 0, 0, 0, 0, 0, 0, 0, 0, 0, 0, 0]"
     },
     "metadata": {},
     "execution_count": 38
    }
   ],
   "source": [
    "b_ub = [0 for i in range(num_decks)]\n",
    "b_ub"
   ]
  },
  {
   "cell_type": "code",
   "execution_count": 39,
   "metadata": {},
   "outputs": [
    {
     "output_type": "execute_result",
     "data": {
      "text/plain": "[1, 1, 1, 1, 1, 1, 1, 1, 1, 1, 1, 1]"
     },
     "metadata": {},
     "execution_count": 39
    }
   ],
   "source": [
    "ones = [1 for i in range(num_decks)]\n",
    "ones"
   ]
  },
  {
   "cell_type": "code",
   "execution_count": 40,
   "metadata": {},
   "outputs": [
    {
     "output_type": "execute_result",
     "data": {
      "text/plain": "[1, 1, 1, 1, 1, 1, 1, 1, 1, 1, 1, 1, 0]"
     },
     "metadata": {},
     "execution_count": 40
    }
   ],
   "source": [
    "ones.append(0)\n",
    "ones"
   ]
  },
  {
   "cell_type": "code",
   "execution_count": 41,
   "metadata": {},
   "outputs": [
    {
     "output_type": "execute_result",
     "data": {
      "text/plain": "[[1, 1, 1, 1, 1, 1, 1, 1, 1, 1, 1, 1, 0]]"
     },
     "metadata": {},
     "execution_count": 41
    }
   ],
   "source": [
    "A_eq = [ones]\n",
    "A_eq"
   ]
  },
  {
   "cell_type": "code",
   "execution_count": 42,
   "metadata": {},
   "outputs": [
    {
     "output_type": "execute_result",
     "data": {
      "text/plain": "[1]"
     },
     "metadata": {},
     "execution_count": 42
    }
   ],
   "source": [
    "b_eq = [1]\n",
    "b_eq"
   ]
  },
  {
   "cell_type": "code",
   "execution_count": 43,
   "metadata": {},
   "outputs": [
    {
     "output_type": "execute_result",
     "data": {
      "text/plain": "[(0, None),\n (0, None),\n (0, None),\n (0, None),\n (0, None),\n (0, None),\n (0, None),\n (0, None),\n (0, None),\n (0, None),\n (0, None),\n (0, None),\n (0, None)]"
     },
     "metadata": {},
     "execution_count": 43
    }
   ],
   "source": [
    "bounds = [(0,None) for i in range(num_decks+1)]\n",
    "bounds"
   ]
  },
  {
   "cell_type": "code",
   "execution_count": 44,
   "metadata": {},
   "outputs": [
    {
     "output_type": "execute_result",
     "data": {
      "text/plain": "     fun: 3.664603343001005e-17\n message: 'Optimization terminated successfully.'\n     nit: 12\n   slack: array([0.        , 0.0617737 , 0.        , 0.        , 0.06391437,\n       0.        , 0.        , 0.        , 0.        , 0.05168196,\n       0.08899083, 0.03058104])\n  status: 0\n success: True\n       x: array([4.00611621e-01, 0.00000000e+00, 1.00917431e-01, 7.33944954e-02,\n       0.00000000e+00, 1.52905199e-02, 2.69113150e-01, 6.11620795e-03,\n       1.34556575e-01, 0.00000000e+00, 0.00000000e+00, 0.00000000e+00,\n       3.66460334e-17])"
     },
     "metadata": {},
     "execution_count": 44
    }
   ],
   "source": [
    "solution = linprog(c, A_ub=payoffs, b_ub=b_ub, A_eq=A_eq, b_eq=b_eq, bounds=bounds)\n",
    "solution"
   ]
  },
  {
   "cell_type": "code",
   "execution_count": null,
   "metadata": {},
   "outputs": [],
   "source": []
  },
  {
   "cell_type": "code",
   "execution_count": null,
   "metadata": {},
   "outputs": [],
   "source": []
  }
 ],
 "metadata": {
  "kernelspec": {
   "display_name": "Python 3",
   "language": "python",
   "name": "python3"
  },
  "language_info": {
   "codemirror_mode": {
    "name": "ipython",
    "version": 3
   },
   "file_extension": ".py",
   "mimetype": "text/x-python",
   "name": "python",
   "nbconvert_exporter": "python",
   "pygments_lexer": "ipython3",
   "version": "3.7.1"
  }
 },
 "nbformat": 4,
 "nbformat_minor": 2
}